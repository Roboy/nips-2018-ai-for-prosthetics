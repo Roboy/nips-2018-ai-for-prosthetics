{
 "cells": [
  {
   "cell_type": "code",
   "execution_count": null,
   "metadata": {},
   "outputs": [],
   "source": [
    "import numpy as np\n",
    "from osim.env import ProstheticsEnv\n",
    "from baselines.common.vec_env.subproc_vec_env import SubprocVecEnv\n",
    "import torch\n",
    "import torch.nn as nn\n",
    "import pickle"
   ]
  },
  {
   "cell_type": "code",
   "execution_count": null,
   "metadata": {},
   "outputs": [],
   "source": [
    "nproc = 4\n",
    "dataset=dict()"
   ]
  },
  {
   "cell_type": "code",
   "execution_count": null,
   "metadata": {},
   "outputs": [],
   "source": [
    "def make_env(seed):\n",
    "    def _f():\n",
    "        env = ProstheticsEnv(visualize=False)\n",
    "        env.change_model(seed=seed)\n",
    "        return env\n",
    "    return _f"
   ]
  },
  {
   "cell_type": "code",
   "execution_count": null,
   "metadata": {},
   "outputs": [],
   "source": [
    "envs = [make_env(seed) for seed in range(nproc)]\n",
    "envs = SubprocVecEnv(envs)\n",
    "obs = envs.reset()"
   ]
  },
  {
   "cell_type": "code",
   "execution_count": null,
   "metadata": {},
   "outputs": [],
   "source": [
    "D_in=envs.observation_space.shape[0]\n",
    "D_out=envs.action_space.shape[0]\n",
    "H=512\n",
    "device = torch.device('cpu')"
   ]
  },
  {
   "cell_type": "code",
   "execution_count": null,
   "metadata": {},
   "outputs": [],
   "source": [
    "random_policy = torch.nn.Sequential(\n",
    "                torch.nn.Linear(D_in, H),\n",
    "                torch.nn.ReLU(),\n",
    "                torch.nn.Linear(H, H),\n",
    "                torch.nn.ReLU(),\n",
    "                torch.nn.Linear(H, H),\n",
    "                torch.nn.ReLU(),\n",
    "                torch.nn.Linear(H, D_out),\n",
    "                ).to(device)"
   ]
  },
  {
   "cell_type": "code",
   "execution_count": null,
   "metadata": {},
   "outputs": [],
   "source": [
    "done=[False]\n",
    "i=0\n",
    "while not (any(done)):\n",
    "# for i in range(10):\n",
    "    action=random_policy(torch.from_numpy(obs).float()).data.numpy()\n",
    "    obs_next,_,done,_=envs.step(action)\n",
    "    dataset[i]=[obs,action,obs_next]\n",
    "    obs=obs_next\n",
    "    i+=1"
   ]
  },
  {
   "cell_type": "code",
   "execution_count": null,
   "metadata": {},
   "outputs": [],
   "source": [
    "dataset.keys()"
   ]
  },
  {
   "cell_type": "code",
   "execution_count": null,
   "metadata": {},
   "outputs": [],
   "source": [
    "pickle.dump(dataset,open('data_haris.pkl','wb'))"
   ]
  }
 ],
 "metadata": {
  "kernelspec": {
   "display_name": "Python 3",
   "language": "python",
   "name": "python3"
  },
  "language_info": {
   "codemirror_mode": {
    "name": "ipython",
    "version": 3
   },
   "file_extension": ".py",
   "mimetype": "text/x-python",
   "name": "python",
   "nbconvert_exporter": "python",
   "pygments_lexer": "ipython3",
   "version": "3.6.1"
  }
 },
 "nbformat": 4,
 "nbformat_minor": 2
}
